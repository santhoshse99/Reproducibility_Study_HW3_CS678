{
 "cells": [
  {
   "cell_type": "code",
   "execution_count": null,
   "metadata": {},
   "outputs": [],
   "source": [
    "import sys\n",
    "sys.path.append('..')\n",
    "\n",
    "from preference_datasets import get_batch_iterator\n",
    "import torch\n",
    "from transformers import AutoTokenizer, AutoModelForCausalLM\n",
    "from peft import PeftModel, PeftConfig\n",
    "import datasets\n",
    "import matplotlib.pyplot as plt\n",
    "import random"
   ]
  },
  {
   "cell_type": "code",
   "execution_count": null,
   "metadata": {},
   "outputs": [],
   "source": [
    "lora_dir='/scratch/ssumathi/Re-tuning/ReTuning-main/cache/ssumathi/my_baseline_add_13b_2024-11-12_20-54-13_323235/LATEST'\n",
    "\n",
    "model = AutoModelForCausalLM.from_pretrained('huggyllama/llama-13b',torch_dtype=torch.float16,device_map='auto')\n",
    "model = PeftModel.from_pretrained(model, lora_dir)\n",
    "\n",
    "tokenizer = AutoTokenizer.from_pretrained(\"huggyllama/llama-13b\")\n",
    "if tokenizer.pad_token_id is None:\n",
    "    tokenizer.pad_token_id = tokenizer.eos_token_id"
   ]
  },
  {
   "cell_type": "code",
   "execution_count": null,
   "metadata": {},
   "outputs": [],
   "source": [
    "def generate_from_prompt(model,prompt,tokenizer):\n",
    "    input_tok=tokenizer(prompt,add_special_tokens=False)\n",
    "    input_ids=torch.LongTensor(input_tok['input_ids']).cuda()\n",
    "    attention_mask=torch.LongTensor(input_tok['attention_mask']).cuda()\n",
    "    tokenized_samples = model.generate(\n",
    "        input_ids=input_ids,\n",
    "        attention_mask=attention_mask,\n",
    "        max_length=2048, \n",
    "        do_sample=False, \n",
    "        pad_token_id=tokenizer.pad_token_id\n",
    "    )\n",
    "    return tokenizer.batch_decode(tokenized_samples,skip_special_tokens=True)"
   ]
  },
  {
   "cell_type": "code",
   "execution_count": null,
   "metadata": {},
   "outputs": [],
   "source": [
    "res_dict = {}\n",
    "eval_lengths = range(2, 60)\n",
    "\n",
    "for num_digits in eval_lengths:\n",
    "    print(f\"Evaluating for length: {num_digits} digits\")\n",
    "    num_right = 0\n",
    "    for i in range(100):\n",
    "        a = random.randint(10**(num_digits - 1), 10**num_digits - 1)\n",
    "        b = random.randint(10**(num_digits - 1), 10**num_digits - 1)\n",
    "        sample = generate_from_prompt(model, [f'{a} + {b}\\nSolution: '], tokenizer)\n",
    "        predicted_sum = sample[0].split('\\nSolution: ')[-1].strip()\n",
    "        if predicted_sum == str(a + b):\n",
    "            num_right += 1\n",
    "    \n",
    "    res_dict[num_digits] = num_right\n",
    "    print(res_dict)\n",
    "print(\"Final Results:\", res_dict)\n"
   ]
  },
  {
   "cell_type": "code",
   "execution_count": null,
   "metadata": {},
   "outputs": [],
   "source": [
    "import matplotlib.pyplot as plt\n",
    "\n",
    "results = {2: 100, 3: 100, 4: 100, 5: 99, 6: 99, 7: 100, 8: 99, 9: 99, 10: 100, 11: 99, 12: 99, \n",
    "           13: 99, 14: 98, 15: 96, 16: 88, 17: 41, 18: 27, 19: 12, 20: 9, 21: 2, 22: 0, 23: 0, \n",
    "           24: 0, 25: 0, 26: 0, 27: 0, 28: 0, 29: 0, 30: 0, 31: 0, 32: 0, 33: 0, 34: 0, 35: 0, \n",
    "           36: 0, 37: 0, 38: 0, 39: 0, 40: 0, 41: 0, 42: 0, 43: 0, 44: 0, 45: 0, 46: 0, 47: 0, \n",
    "           48: 0, 49: 0, 50: 0, 51: 0, 52: 0, 53: 0, 54: 0, 55: 0, 56: 0, 57: 0, 58: 0, 59: 0}\n",
    "\n",
    "lengths = list(results.keys())\n",
    "accuracies = [value / 100 for value in results.values()]\n",
    "\n",
    "plt.figure(figsize=(10, 6))\n",
    "plt.plot(lengths, accuracies, marker='o', linestyle='-')\n",
    "plt.xlabel(\"Length\")\n",
    "plt.ylabel(\"Accuracy\")\n",
    "plt.ylim(0.0, 1.0)\n",
    "plt.title(\"Baseline adddition with Llama 13B\")\n",
    "plt.grid(True)\n",
    "plt.show()\n"
   ]
  }
 ],
 "metadata": {
  "kernelspec": {
   "display_name": "Python (retuning_env)",
   "language": "python",
   "name": "retuning_env"
  },
  "language_info": {
   "codemirror_mode": {
    "name": "ipython",
    "version": 3
   },
   "file_extension": ".py",
   "mimetype": "text/x-python",
   "name": "python",
   "nbconvert_exporter": "python",
   "pygments_lexer": "ipython3",
   "version": "3.8.6"
  }
 },
 "nbformat": 4,
 "nbformat_minor": 2
}
