{
 "cells": [
  {
   "cell_type": "code",
   "execution_count": 1,
   "id": "21901a1d",
   "metadata": {},
   "outputs": [],
   "source": [
    "import sys\n",
    "sys.path.append('..')\n",
    "\n",
    "from preference_datasets import get_batch_iterator\n",
    "import torch\n",
    "from transformers import AutoTokenizer, AutoModelForCausalLM\n",
    "from peft import PeftModel, PeftConfig\n",
    "import datasets\n",
    "import matplotlib.pyplot as plt\n",
    "import random"
   ]
  },
  {
   "cell_type": "code",
   "execution_count": 2,
   "id": "855a35b2",
   "metadata": {},
   "outputs": [
    {
     "name": "stderr",
     "output_type": "stream",
     "text": [
      "/scratch/ssumathi/Re-tuning/retuning_env/lib/python3.8/site-packages/huggingface_hub/file_download.py:797: FutureWarning: `resume_download` is deprecated and will be removed in version 1.0.0. Downloads always resume when possible. If you want to force a new download, use `force_download=True`.\n",
      "  warnings.warn(\n"
     ]
    },
    {
     "data": {
      "application/vnd.jupyter.widget-view+json": {
       "model_id": "634e4ccf143541c7aa2829f876b55e50",
       "version_major": 2,
       "version_minor": 0
      },
      "text/plain": [
       "Loading checkpoint shards:   0%|          | 0/2 [00:00<?, ?it/s]"
      ]
     },
     "metadata": {},
     "output_type": "display_data"
    }
   ],
   "source": [
    "lora_dir='/scratch/ssumathi/Re-tuning/ReTuning-main/cache/ssumathi/my_scrpad_parity_7b_2024-11-13_15-25-40_989651/LATEST'\n",
    "\n",
    "model = AutoModelForCausalLM.from_pretrained('huggyllama/llama-7b',torch_dtype=torch.float16,device_map='auto')\n",
    "model = PeftModel.from_pretrained(model, lora_dir,offload_buffer=True)\n",
    "\n",
    "tokenizer = AutoTokenizer.from_pretrained(\"huggyllama/llama-7b\")\n",
    "if tokenizer.pad_token_id is None:\n",
    "    tokenizer.pad_token_id = tokenizer.eos_token_id"
   ]
  },
  {
   "cell_type": "code",
   "execution_count": 3,
   "id": "9b5283cf",
   "metadata": {},
   "outputs": [],
   "source": [
    "def generate_from_prompt(model,prompt,tokenizer,max_length,temperature):\n",
    "    input_tok=tokenizer(prompt,add_special_tokens=False)\n",
    "    input_ids=torch.LongTensor(input_tok['input_ids']).cuda()\n",
    "    attention_mask=torch.LongTensor(input_tok['attention_mask']).cuda()\n",
    "    tokenized_samples = model.generate(\n",
    "        input_ids=input_ids,\n",
    "        attention_mask=attention_mask,\n",
    "        max_length=2048, \n",
    "        do_sample=True, \n",
    "        temperature=.6, \n",
    "        pad_token_id=tokenizer.pad_token_id\n",
    "    )\n",
    "    return tokenizer.batch_decode(tokenized_samples,skip_special_tokens=True)\n",
    "\n",
    "def generate_binary_list(n):\n",
    "    binary_list = [random.choice([0, 1]) for _ in range(n)]\n",
    "    return binary_list\n"
   ]
  },
  {
   "cell_type": "code",
   "execution_count": 5,
   "id": "827ed8e1",
   "metadata": {
    "scrolled": true
   },
   "outputs": [
    {
     "name": "stdout",
     "output_type": "stream",
     "text": [
      "{31: 3}\n",
      "{31: 3, 32: 3}\n",
      "{31: 3, 32: 3, 33: 4}\n",
      "{31: 3, 32: 3, 33: 4, 34: 3}\n",
      "{31: 3, 32: 3, 33: 4, 34: 3, 35: 3}\n",
      "{31: 3, 32: 3, 33: 4, 34: 3, 35: 3, 36: 2}\n",
      "{31: 3, 32: 3, 33: 4, 34: 3, 35: 3, 36: 2, 37: 2}\n",
      "{31: 3, 32: 3, 33: 4, 34: 3, 35: 3, 36: 2, 37: 2, 38: 3}\n",
      "{31: 3, 32: 3, 33: 4, 34: 3, 35: 3, 36: 2, 37: 2, 38: 3, 39: 4}\n",
      "{31: 3, 32: 3, 33: 4, 34: 3, 35: 3, 36: 2, 37: 2, 38: 3, 39: 4, 40: 2}\n",
      "{31: 3, 32: 3, 33: 4, 34: 3, 35: 3, 36: 2, 37: 2, 38: 3, 39: 4, 40: 2, 41: 2}\n",
      "{31: 3, 32: 3, 33: 4, 34: 3, 35: 3, 36: 2, 37: 2, 38: 3, 39: 4, 40: 2, 41: 2, 42: 3}\n",
      "{31: 3, 32: 3, 33: 4, 34: 3, 35: 3, 36: 2, 37: 2, 38: 3, 39: 4, 40: 2, 41: 2, 42: 3, 43: 2}\n",
      "{31: 3, 32: 3, 33: 4, 34: 3, 35: 3, 36: 2, 37: 2, 38: 3, 39: 4, 40: 2, 41: 2, 42: 3, 43: 2, 44: 2}\n",
      "{31: 3, 32: 3, 33: 4, 34: 3, 35: 3, 36: 2, 37: 2, 38: 3, 39: 4, 40: 2, 41: 2, 42: 3, 43: 2, 44: 2, 45: 2}\n",
      "{31: 3, 32: 3, 33: 4, 34: 3, 35: 3, 36: 2, 37: 2, 38: 3, 39: 4, 40: 2, 41: 2, 42: 3, 43: 2, 44: 2, 45: 2, 46: 4}\n",
      "{31: 3, 32: 3, 33: 4, 34: 3, 35: 3, 36: 2, 37: 2, 38: 3, 39: 4, 40: 2, 41: 2, 42: 3, 43: 2, 44: 2, 45: 2, 46: 4, 47: 0}\n",
      "{31: 3, 32: 3, 33: 4, 34: 3, 35: 3, 36: 2, 37: 2, 38: 3, 39: 4, 40: 2, 41: 2, 42: 3, 43: 2, 44: 2, 45: 2, 46: 4, 47: 0, 48: 5}\n",
      "{31: 3, 32: 3, 33: 4, 34: 3, 35: 3, 36: 2, 37: 2, 38: 3, 39: 4, 40: 2, 41: 2, 42: 3, 43: 2, 44: 2, 45: 2, 46: 4, 47: 0, 48: 5, 49: 3}\n",
      "{31: 3, 32: 3, 33: 4, 34: 3, 35: 3, 36: 2, 37: 2, 38: 3, 39: 4, 40: 2, 41: 2, 42: 3, 43: 2, 44: 2, 45: 2, 46: 4, 47: 0, 48: 5, 49: 3, 50: 2}\n",
      "{31: 3, 32: 3, 33: 4, 34: 3, 35: 3, 36: 2, 37: 2, 38: 3, 39: 4, 40: 2, 41: 2, 42: 3, 43: 2, 44: 2, 45: 2, 46: 4, 47: 0, 48: 5, 49: 3, 50: 2, 51: 3}\n",
      "{31: 3, 32: 3, 33: 4, 34: 3, 35: 3, 36: 2, 37: 2, 38: 3, 39: 4, 40: 2, 41: 2, 42: 3, 43: 2, 44: 2, 45: 2, 46: 4, 47: 0, 48: 5, 49: 3, 50: 2, 51: 3, 52: 1}\n",
      "{31: 3, 32: 3, 33: 4, 34: 3, 35: 3, 36: 2, 37: 2, 38: 3, 39: 4, 40: 2, 41: 2, 42: 3, 43: 2, 44: 2, 45: 2, 46: 4, 47: 0, 48: 5, 49: 3, 50: 2, 51: 3, 52: 1, 53: 3}\n",
      "{31: 3, 32: 3, 33: 4, 34: 3, 35: 3, 36: 2, 37: 2, 38: 3, 39: 4, 40: 2, 41: 2, 42: 3, 43: 2, 44: 2, 45: 2, 46: 4, 47: 0, 48: 5, 49: 3, 50: 2, 51: 3, 52: 1, 53: 3, 54: 4, 55: 4, 56: 1, 57: 2, 58: 4}\n",
      "{31: 3, 32: 3, 33: 4, 34: 3, 35: 3, 36: 2, 37: 2, 38: 3, 39: 4, 40: 2, 41: 2, 42: 3, 43: 2, 44: 2, 45: 2, 46: 4, 47: 0, 48: 5, 49: 3, 50: 2, 51: 3, 52: 1, 53: 3, 54: 4, 55: 4, 56: 1, 57: 2, 58: 4, 59: 3}\n",
      "{31: 3, 32: 3, 33: 4, 34: 3, 35: 3, 36: 2, 37: 2, 38: 3, 39: 4, 40: 2, 41: 2, 42: 3, 43: 2, 44: 2, 45: 2, 46: 4, 47: 0, 48: 5, 49: 3, 50: 2, 51: 3, 52: 1, 53: 3, 54: 4, 55: 4, 56: 1, 57: 2, 58: 4, 59: 3}\n"
     ]
    }
   ],
   "source": [
    "prompt_template='What is the parity of {}?\\nSolution: '\n",
    "res_dict={}\n",
    "eval_lengths=range(2,60)\n",
    "for length in eval_lengths:\n",
    "    num_right=0\n",
    "    for _ in range(5):\n",
    "        arr=generate_binary_list(length)\n",
    "        out=generate_from_prompt(model,[prompt_template.format(arr)],tokenizer,max_length=512,temperature=.01)\n",
    "        if out[0].split(' ')[-1]==str(arr.count(1)%2):num_right+=1\n",
    "    res_dict[length]=num_right\n",
    "    print(res_dict)\n",
    "print(res_dict)"
   ]
  },
  {
   "cell_type": "code",
   "execution_count": null,
   "id": "a72ce59d",
   "metadata": {},
   "outputs": [],
   "source": []
  }
 ],
 "metadata": {
  "kernelspec": {
   "display_name": "Python (retuning_env)",
   "language": "python",
   "name": "retuning_env"
  },
  "language_info": {
   "codemirror_mode": {
    "name": "ipython",
    "version": 3
   },
   "file_extension": ".py",
   "mimetype": "text/x-python",
   "name": "python",
   "nbconvert_exporter": "python",
   "pygments_lexer": "ipython3",
   "version": "3.8.6"
  }
 },
 "nbformat": 4,
 "nbformat_minor": 5
}
